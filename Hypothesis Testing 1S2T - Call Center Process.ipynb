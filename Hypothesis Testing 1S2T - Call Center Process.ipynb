{
 "cells": [
  {
   "cell_type": "markdown",
   "id": "e36aab6c",
   "metadata": {},
   "source": [
    "# Hypothesis Testing 1S2T - Call Center Process\n"
   ]
  },
  {
   "cell_type": "code",
   "execution_count": 1,
   "id": "d509bd79",
   "metadata": {},
   "outputs": [],
   "source": [
    "import numpy as np\n",
    "import pandas as pd\n",
    "from scipy import stats\n",
    "from scipy.stats import norm"
   ]
  },
  {
   "cell_type": "markdown",
   "id": "5d8679b4",
   "metadata": {},
   "source": [
    "### Sample Parameters: n=50, df=50-1=49, Mean1=4, SD1=3 \n",
    "### 1-sample 2-tail ttest Assume Null Hypothesis Ho as Mean1 = 4 \n",
    "### Thus, Alternate Hypothesis Ha as Mean1 ≠ 4"
   ]
  },
  {
   "cell_type": "code",
   "execution_count": 2,
   "id": "6697e5b8",
   "metadata": {},
   "outputs": [
    {
     "data": {
      "text/plain": [
       "-1.4142135623730943"
      ]
     },
     "execution_count": 2,
     "metadata": {},
     "output_type": "execute_result"
    }
   ],
   "source": [
    "# For Day 10, Mean2 = 4.6 from the data table\n",
    "\n",
    "# Find t_value = (Mean1 - Mean2)/(SD1/sqrt(n))\n",
    "t_value1=(4-4.6)/(3/np.sqrt(50))\n",
    "t_value1"
   ]
  },
  {
   "cell_type": "code",
   "execution_count": 3,
   "id": "52c577dd",
   "metadata": {},
   "outputs": [],
   "source": [
    "# Find Probability P(X<t1)+P(X>t2) (Two-Tails Test values) so as to compare with Type-1 error α = 0.05"
   ]
  },
  {
   "cell_type": "markdown",
   "id": "084094ba",
   "metadata": {},
   "source": [
    "### For 2-tails; t1=-1.4 and t2=1.4 as t1=t2, t1+t2 = 2t1"
   ]
  },
  {
   "cell_type": "code",
   "execution_count": 4,
   "id": "cd0392d8",
   "metadata": {},
   "outputs": [
    {
     "data": {
      "text/plain": [
       "0.1636259782698421"
      ]
     },
     "execution_count": 4,
     "metadata": {},
     "output_type": "execute_result"
    }
   ],
   "source": [
    "p_value1=2*stats.t.cdf(-1.4142,df=49)\n",
    "p_value1"
   ]
  },
  {
   "cell_type": "markdown",
   "id": "5035a523",
   "metadata": {},
   "source": [
    "### As (p-value = 0.1636) > (α = 0.05); Accept Null Hypothesis Thus, Mean1 = 4 is correct by 16.36% probability"
   ]
  },
  {
   "cell_type": "code",
   "execution_count": 5,
   "id": "d74320d3",
   "metadata": {},
   "outputs": [
    {
     "data": {
      "text/plain": [
       "0.4714045207910321"
      ]
     },
     "execution_count": 5,
     "metadata": {},
     "output_type": "execute_result"
    }
   ],
   "source": [
    "# For Day 15, Mean2 = 3.8 from the data table\n",
    "\n",
    "# Find t_value = (Mean1 - Mean2)/(SD1/sqrt(n))\n",
    "t_value2=(4-3.8)/(3/np.sqrt(50))\n",
    "t_value2"
   ]
  },
  {
   "cell_type": "code",
   "execution_count": 6,
   "id": "5f2b745f",
   "metadata": {},
   "outputs": [],
   "source": [
    "# Find Probability P(X<t1)+P(X>t2) (Two-Tails Test values) so as to compare with Type-1 error α = 0.05"
   ]
  },
  {
   "cell_type": "markdown",
   "id": "b356ee1b",
   "metadata": {},
   "source": [
    "### For 2-tails; t1=-0.47 and t2=0.47 as t1=t2, t1+t2 = 2t1"
   ]
  },
  {
   "cell_type": "code",
   "execution_count": 7,
   "id": "ea952e53",
   "metadata": {},
   "outputs": [
    {
     "data": {
      "text/plain": [
       "0.640440149558531"
      ]
     },
     "execution_count": 7,
     "metadata": {},
     "output_type": "execute_result"
    }
   ],
   "source": [
    "p_value2=2*stats.t.cdf(-0.47,df=49)\n",
    "p_value2"
   ]
  },
  {
   "cell_type": "code",
   "execution_count": 8,
   "id": "d215e5eb",
   "metadata": {},
   "outputs": [
    {
     "data": {
      "text/plain": [
       "0.6404401495585312"
      ]
     },
     "execution_count": 8,
     "metadata": {},
     "output_type": "execute_result"
    }
   ],
   "source": [
    "# OR\n",
    "p_value2=2*(1-stats.t.cdf(0.47,df=49))\n",
    "p_value2"
   ]
  },
  {
   "cell_type": "markdown",
   "id": "7557379d",
   "metadata": {},
   "source": [
    "### As (p-value = 0.64) > (α = 0.05); Accept Null Hypothesis Thus, Mean1 = 4 is correct by 64.04% probability"
   ]
  },
  {
   "cell_type": "code",
   "execution_count": 9,
   "id": "8700289e",
   "metadata": {},
   "outputs": [
    {
     "data": {
      "text/plain": [
       "0.0"
      ]
     },
     "execution_count": 9,
     "metadata": {},
     "output_type": "execute_result"
    }
   ],
   "source": [
    "# For Day 13, Mean2 = 4.0 from the data table\n",
    "\n",
    "# Find t_value = (Mean1 - Mean2)/(SD1/sqrt(n))\n",
    "t_value3=(4-4)/(3/np.sqrt(50))\n",
    "t_value3\n",
    "\n"
   ]
  },
  {
   "cell_type": "code",
   "execution_count": 10,
   "id": "1a2ff71d",
   "metadata": {},
   "outputs": [],
   "source": [
    "# Find Probability P(X<t1)+P(X>t2) (Two-Tails Test values) so as to compare with Type-1 error α = 0.05"
   ]
  },
  {
   "cell_type": "markdown",
   "id": "e95def5c",
   "metadata": {},
   "source": [
    "### For 2-tails; t1=-0 and t2=0 as t1=t2, t1+t2 = 2t1"
   ]
  },
  {
   "cell_type": "code",
   "execution_count": 12,
   "id": "7571a882",
   "metadata": {},
   "outputs": [
    {
     "data": {
      "text/plain": [
       "1.0"
      ]
     },
     "execution_count": 12,
     "metadata": {},
     "output_type": "execute_result"
    }
   ],
   "source": [
    "p_value3=2*stats.t.cdf(-0,df=49)\n",
    "p_value3"
   ]
  },
  {
   "cell_type": "markdown",
   "id": "b158b934",
   "metadata": {},
   "source": [
    "#### As (p-value = 1.0) > (α = 0.05); Accept Null Hypothesis Thus, Mean1 = 4 is correct by 100% probability If somehow, we happen to reject null hypthesis, the decision will be wrong by 100%"
   ]
  },
  {
   "cell_type": "code",
   "execution_count": null,
   "id": "449849fc",
   "metadata": {},
   "outputs": [],
   "source": []
  }
 ],
 "metadata": {
  "kernelspec": {
   "display_name": "Python 3",
   "language": "python",
   "name": "python3"
  },
  "language_info": {
   "codemirror_mode": {
    "name": "ipython",
    "version": 3
   },
   "file_extension": ".py",
   "mimetype": "text/x-python",
   "name": "python",
   "nbconvert_exporter": "python",
   "pygments_lexer": "ipython3",
   "version": "3.8.8"
  }
 },
 "nbformat": 4,
 "nbformat_minor": 5
}
